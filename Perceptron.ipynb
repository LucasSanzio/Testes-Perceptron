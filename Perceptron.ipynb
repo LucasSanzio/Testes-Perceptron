{
  "nbformat": 4,
  "nbformat_minor": 0,
  "metadata": {
    "colab": {
      "provenance": [],
      "authorship_tag": "ABX9TyNOtT51B/kNipkylkGpEuGy",
      "include_colab_link": true
    },
    "kernelspec": {
      "name": "python3",
      "display_name": "Python 3"
    },
    "language_info": {
      "name": "python"
    }
  },
  "cells": [
    {
      "cell_type": "markdown",
      "metadata": {
        "id": "view-in-github",
        "colab_type": "text"
      },
      "source": [
        "<a href=\"https://colab.research.google.com/github/LucasSanzio/Testes-Perceptron/blob/main/Perceptron.ipynb\" target=\"_parent\"><img src=\"https://colab.research.google.com/assets/colab-badge.svg\" alt=\"Open In Colab\"/></a>"
      ]
    },
    {
      "cell_type": "code",
      "execution_count": 4,
      "metadata": {
        "colab": {
          "base_uri": "https://localhost:8080/"
        },
        "id": "rGfjJ3VGpuWo",
        "outputId": "b3be3594-d96a-426a-e7b7-c1a70a6a043d"
      },
      "outputs": [
        {
          "output_type": "stream",
          "name": "stdout",
          "text": [
            "Previsões: \n",
            "Nuvens: 0, Previsão de Chuva: 0 => Levar Guarda-chuva? Não\n",
            "Nuvens: 0, Previsão de Chuva: 1 => Levar Guarda-chuva? Sim\n",
            "Nuvens: 1, Previsão de Chuva: 0 => Levar Guarda-chuva? Sim\n",
            "Nuvens: 1, Previsão de Chuva: 1 => Levar Guarda-chuva? Sim\n"
          ]
        }
      ],
      "source": [
        "from sklearn.linear_model import Perceptron\n",
        "\n",
        "x = [[0,0], [0,1], [1,0], [1,1]]\n",
        "\n",
        "y = [0,1,1,1]\n",
        "\n",
        "modelo = Perceptron()\n",
        "\n",
        "modelo.fit(x,y)\n",
        "\n",
        "print(\"Previsões: \")\n",
        "testes = [[0,0],[0,1],[1,0],[1,1]]\n",
        "for teste in testes:\n",
        "  previsao = modelo.predict([teste])\n",
        "  print(f\"Nuvens: {teste[0]}, Previsão de Chuva: {teste[1]} => Levar Guarda-chuva? {'Sim' if previsao[0] == 1 else 'Não'}\")"
      ]
    },
    {
      "cell_type": "code",
      "source": [
        "from sklearn.linear_model import Perceptron\n",
        "\n",
        "x = [[0,0,0],[0,1,0],[1,0,0],[1,1,0],[0,0,1],[0,1,1],[1,0,1],[1,1,1]]\n",
        "\n",
        "y = [0,1,1,1,0,0,0,0]\n",
        "\n",
        "modelo = Perceptron()\n",
        "\n",
        "modelo.fit(x,y)\n",
        "\n",
        "print(\"Previsões: \")\n",
        "testes = [[0,0,0],[0,1,0],[1,0,0],[1,1,0],[0,0,1],[0,1,1],[1,0,1],[1,1,1]]\n",
        "for teste in testes:\n",
        "  previsao = modelo.predict([teste])\n",
        "  print(f\"Tempo ensolarado: {teste[0]}, Final de semana: {teste[1]}, Dia chuvoso: {teste[2]} => Ir ao Parque? {'Sim' if previsao[0] == 1 else 'Não'}\")\n",
        ""
      ],
      "metadata": {
        "colab": {
          "base_uri": "https://localhost:8080/"
        },
        "id": "h4aXYd3zsfOh",
        "outputId": "8e7fe966-72a4-47fe-de46-db50f603f137"
      },
      "execution_count": 5,
      "outputs": [
        {
          "output_type": "stream",
          "name": "stdout",
          "text": [
            "Previsões: \n",
            "Tempo ensolarado: 0, Final de semana: 0, Dia chuvoso: 0 => Ir ao Parque? Não\n",
            "Tempo ensolarado: 0, Final de semana: 1, Dia chuvoso: 0 => Ir ao Parque? Sim\n",
            "Tempo ensolarado: 1, Final de semana: 0, Dia chuvoso: 0 => Ir ao Parque? Sim\n",
            "Tempo ensolarado: 1, Final de semana: 1, Dia chuvoso: 0 => Ir ao Parque? Sim\n",
            "Tempo ensolarado: 0, Final de semana: 0, Dia chuvoso: 1 => Ir ao Parque? Não\n",
            "Tempo ensolarado: 0, Final de semana: 1, Dia chuvoso: 1 => Ir ao Parque? Não\n",
            "Tempo ensolarado: 1, Final de semana: 0, Dia chuvoso: 1 => Ir ao Parque? Não\n",
            "Tempo ensolarado: 1, Final de semana: 1, Dia chuvoso: 1 => Ir ao Parque? Não\n"
          ]
        }
      ]
    },
    {
      "cell_type": "code",
      "source": [
        "from sklearn.linear_model import Perceptron\n",
        "\n",
        "x = [[0, 1, 1, 1], [1, 0, 1, 1], [1, 1, 0, 1], [0, 0, 1, 0], [1, 1, 1, 1], [0, 1, 0, 0], [1, 0, 0, 1], [0, 0, 0, 1]]\n",
        "\n",
        "y = [0, 1, 0, 1, 1, 0, 0, 0]\n",
        "\n",
        "modelo = Perceptron()\n",
        "\n",
        "modelo.fit(x, y)\n",
        "\n",
        "print(\"Previsões:\")\n",
        "testes = [[0, 1, 1, 1], [1, 0, 1, 1], [1, 1, 0, 1], [0, 0, 1, 0], [1, 1, 1, 1], [0, 1, 0, 0], [1, 0, 0, 1], [0, 0, 0, 1]]\n",
        "for teste in testes:\n",
        "    previsao = modelo.predict([teste])\n",
        "    print(f\"Estou cansado: {teste[0]}, Possuo os Ingredientes: {teste[1]}, Restaurante aberto: {teste[2]}, Pix vai cair: {teste[3]} => Devo comer fora? {'Sim' if previsao[0] == 1 else 'Não'}\")"
      ],
      "metadata": {
        "colab": {
          "base_uri": "https://localhost:8080/"
        },
        "id": "LafiKL2gwhoU",
        "outputId": "39aa335a-ab76-42fc-9872-b61c4651b4a9"
      },
      "execution_count": 6,
      "outputs": [
        {
          "output_type": "stream",
          "name": "stdout",
          "text": [
            "Previsões:\n",
            "Estou cansado: 0, Possuo os Ingredientes: 1, Restaurante aberto: 1, Pix vai cair: 1 => Devo comer fora? Não\n",
            "Estou cansado: 1, Possuo os Ingredientes: 0, Restaurante aberto: 1, Pix vai cair: 1 => Devo comer fora? Sim\n",
            "Estou cansado: 1, Possuo os Ingredientes: 1, Restaurante aberto: 0, Pix vai cair: 1 => Devo comer fora? Não\n",
            "Estou cansado: 0, Possuo os Ingredientes: 0, Restaurante aberto: 1, Pix vai cair: 0 => Devo comer fora? Sim\n",
            "Estou cansado: 1, Possuo os Ingredientes: 1, Restaurante aberto: 1, Pix vai cair: 1 => Devo comer fora? Sim\n",
            "Estou cansado: 0, Possuo os Ingredientes: 1, Restaurante aberto: 0, Pix vai cair: 0 => Devo comer fora? Não\n",
            "Estou cansado: 1, Possuo os Ingredientes: 0, Restaurante aberto: 0, Pix vai cair: 1 => Devo comer fora? Não\n",
            "Estou cansado: 0, Possuo os Ingredientes: 0, Restaurante aberto: 0, Pix vai cair: 1 => Devo comer fora? Não\n"
          ]
        }
      ]
    }
  ]
}